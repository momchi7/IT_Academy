{
 "cells": [
  {
   "cell_type": "markdown",
   "id": "387d7e78",
   "metadata": {},
   "source": [
    "# Exercicis de programació numèrica.\n",
    "\n",
    "**Objectius**\n",
    "- Creació d'arrays amb la llibreria numpy.\n",
    "- Creació de matrius amb la llibreria numpy.\n",
    "- Ús dels mètodes de la llibreria numpy.\n",
    "- Utilització de funcions.\n",
    "\n"
   ]
  },
  {
   "cell_type": "code",
   "execution_count": 1,
   "id": "45ef6dd6",
   "metadata": {},
   "outputs": [
    {
     "name": "stdout",
     "output_type": "stream",
     "text": [
      "Setup Complete\n"
     ]
    }
   ],
   "source": [
    "import numpy as np\n",
    "import pandas as pd\n",
    "\n",
    "print(\"Setup Complete\")"
   ]
  },
  {
   "cell_type": "markdown",
   "id": "ca4ac0c8",
   "metadata": {},
   "source": [
    "### Exercici 1\n",
    "Crea una funció que donat un Array d’una dimensió, et faci un resum estadístic bàsic de les dades. Si detecta que l’array té més d’una dimensió, ha de mostrar un missatge d’error."
   ]
  },
  {
   "cell_type": "code",
   "execution_count": 2,
   "id": "3f585261",
   "metadata": {},
   "outputs": [],
   "source": [
    "prime_num = np.array([2, 3, 5, 7, 11, 13])\n",
    "second_array = np.array([[2, 3, 5, 7, 11, 13],[2, 3, 5, 7, 11, 13]])"
   ]
  },
  {
   "cell_type": "code",
   "execution_count": 3,
   "id": "e9a83cad",
   "metadata": {},
   "outputs": [],
   "source": [
    "def array_dimension(array):\n",
    "    if np.ndim(array)==1:\n",
    "        n_array=pd.Series(array)\n",
    "        basic_stats=n_array.describe()\n",
    "        return basic_stats\n",
    "    else:\n",
    "        return \"Use a one-dimensional array, please.\""
   ]
  },
  {
   "cell_type": "code",
   "execution_count": 4,
   "id": "cfd25948",
   "metadata": {},
   "outputs": [
    {
     "data": {
      "text/plain": [
       "count     6.000000\n",
       "mean      6.833333\n",
       "std       4.400758\n",
       "min       2.000000\n",
       "25%       3.500000\n",
       "50%       6.000000\n",
       "75%      10.000000\n",
       "max      13.000000\n",
       "dtype: float64"
      ]
     },
     "execution_count": 4,
     "metadata": {},
     "output_type": "execute_result"
    }
   ],
   "source": [
    "array_dimension(prime_num)"
   ]
  },
  {
   "cell_type": "code",
   "execution_count": 5,
   "id": "ebe06c70",
   "metadata": {},
   "outputs": [
    {
     "data": {
      "text/plain": [
       "'Use a one-dimensional array, please.'"
      ]
     },
     "execution_count": 5,
     "metadata": {},
     "output_type": "execute_result"
    }
   ],
   "source": [
    "array_dimension(second_array)"
   ]
  },
  {
   "cell_type": "markdown",
   "id": "e53de4ef",
   "metadata": {},
   "source": [
    "### Exercici 2\n",
    "Crea una funció que et generi un quadrat NxN de nombres aleatoris entre el 0 i el 100."
   ]
  },
  {
   "cell_type": "code",
   "execution_count": 6,
   "id": "2e5b3b6f",
   "metadata": {},
   "outputs": [],
   "source": [
    "def square_matrix(rows,columns):\n",
    "    rng = np.random.default_rng(seed=1)\n",
    "    return rng.integers(100, size = (rows,columns))"
   ]
  },
  {
   "cell_type": "code",
   "execution_count": 7,
   "id": "30738ab2",
   "metadata": {},
   "outputs": [
    {
     "data": {
      "text/plain": [
       "array([[47, 51, 75, 95,  3, 14, 82],\n",
       "       [94, 24, 31, 86, 42, 27, 82],\n",
       "       [25, 40, 64, 54,  8,  2, 86],\n",
       "       [75, 83, 53, 81, 32, 45, 78],\n",
       "       [12, 30, 12, 45, 97, 13, 38],\n",
       "       [40, 90, 20, 50, 26,  1, 75],\n",
       "       [ 6, 28, 49, 48, 11, 98, 74]], dtype=int64)"
      ]
     },
     "execution_count": 7,
     "metadata": {},
     "output_type": "execute_result"
    }
   ],
   "source": [
    "square_matrix(7,7)"
   ]
  },
  {
   "cell_type": "markdown",
   "id": "3d0f1c1f",
   "metadata": {},
   "source": [
    "### Exercici 3\n",
    "Crea una funció que donada una taula de dues dimensions (NxM), et calculi els totals per fila i els totals per columna."
   ]
  },
  {
   "cell_type": "code",
   "execution_count": 8,
   "id": "115ddd57",
   "metadata": {},
   "outputs": [],
   "source": [
    "def aggregates_rows_cols(matrix):\n",
    "    #aggregate across rows\n",
    "    aggregate_rows = matrix.sum(axis=0)\n",
    "    \n",
    "    #aggregate across columns\n",
    "    aggregate_cols = matrix.sum(axis=1)\n",
    "    \n",
    "    return \"\"\"Agregate rows: {0},\n",
    "    Agregate columns: {1}\"\"\".format(aggregate_rows, aggregate_cols)"
   ]
  },
  {
   "cell_type": "code",
   "execution_count": 9,
   "id": "34ca9ca2",
   "metadata": {},
   "outputs": [
    {
     "data": {
      "text/plain": [
       "array([[47, 51, 75, 95],\n",
       "       [ 3, 14, 82, 94],\n",
       "       [24, 31, 86, 42]], dtype=int64)"
      ]
     },
     "execution_count": 9,
     "metadata": {},
     "output_type": "execute_result"
    }
   ],
   "source": [
    "data = square_matrix(3,4)\n",
    "data"
   ]
  },
  {
   "cell_type": "code",
   "execution_count": 10,
   "id": "892a43bd",
   "metadata": {},
   "outputs": [
    {
     "data": {
      "text/plain": [
       "'Agregate rows: [ 74  96 243 231],\\n    Agregate columns: [268 193 183]'"
      ]
     },
     "execution_count": 10,
     "metadata": {},
     "output_type": "execute_result"
    }
   ],
   "source": [
    "aggregates_rows_cols(data)"
   ]
  },
  {
   "cell_type": "markdown",
   "id": "810bbb5a",
   "metadata": {},
   "source": [
    "### Exercici 4\n",
    "Implementa manualment una funció que calculi el coeficient de correlació. Informa-te'n sobre els seus usos i interpretació."
   ]
  },
  {
   "cell_type": "markdown",
   "id": "c22e405d",
   "metadata": {},
   "source": [
    "We can find a trend line between two variables. The closer the data are to the line, the relationship between the two variables is relatively strong. We can use this to make predictions and inferences, aka **educated guesses**. We can quantify the strength of the relationship with **correlation**.\n",
    "\n",
    "We should have low confidence in correlations made with a small datasets... \n",
    "\n",
    "When we're talking about correlation we're only talking about using straight lines. For correlation, a *p-value* tels us the probability that randomly drawn dots will result in a similarly strong relationship, or stonger. Thus, the smaller the **p-value**, the more confidence we have in the predictions we make with the line. \n",
    "\n",
    "- The **maximum value** for **correlation**, **1**, occurs whenever you can draw a **straight line** with a **positive slope** that goes through all the data. \n",
    "- And our confidence in how useful the relationship is depends on how much data we have. \n",
    "- Our confidence in our inferences depends on the amount of data we have collected and the **p-value**. We should have the most confidence in a relationship that is supported by the most data and has the smallest **p-value**.\n",
    "- In other words, just because you have a lot of data and you have a lot of confidence in your guess if the **correlation value** is small, your guess will still be bad. \n",
    "- When a **straight line** with a **negative slope** can go through the center of every data point, then the **correlation** = **-1**.\n",
    "- In both cases, if a **straight line** cannot go through all of the data, then we will get **correlation values** closer to **0**..."
   ]
  },
  {
   "cell_type": "code",
   "execution_count": 11,
   "id": "b0c99b65",
   "metadata": {},
   "outputs": [],
   "source": [
    "height = [60, 62, 65, 68, 70, 74]\n",
    "weight=[140, 138, 150, 166, 190, 250]"
   ]
  },
  {
   "cell_type": "code",
   "execution_count": null,
   "id": "ecdf2a89",
   "metadata": {},
   "outputs": [],
   "source": []
  },
  {
   "cell_type": "code",
   "execution_count": null,
   "id": "bd33caf3",
   "metadata": {},
   "outputs": [],
   "source": []
  },
  {
   "cell_type": "code",
   "execution_count": 12,
   "id": "6bddf162",
   "metadata": {},
   "outputs": [],
   "source": [
    "def coef_corr(x,y):\n",
    "    # import scipy\n",
    "    from scipy import stats\n",
    "    \n",
    "    # r, p stands for correlation, p-value\n",
    "    # see tupple unpacking\n",
    "    r, p = stats.pearsonr(x, y)\n",
    "    \n",
    "    #round to seven decimals\n",
    "    return \"\"\"Correlation: {0}\n",
    "    p-value: {1}\"\"\".format(round(r,7), round(p,7))"
   ]
  },
  {
   "cell_type": "code",
   "execution_count": 13,
   "id": "0df71c95",
   "metadata": {},
   "outputs": [
    {
     "data": {
      "text/plain": [
       "'Correlation: 0.9298975\\n    p-value: 0.0071993'"
      ]
     },
     "execution_count": 13,
     "metadata": {},
     "output_type": "execute_result"
    }
   ],
   "source": [
    "coef_corr(height, weight)"
   ]
  },
  {
   "cell_type": "markdown",
   "id": "64e01cee",
   "metadata": {},
   "source": [
    "The correlation between height and weight is **0.9298975**.\n",
    "\n",
    "We have **high correlation**. This means that is extremely likely to have high correlation next time we collect six more samples."
   ]
  },
  {
   "cell_type": "markdown",
   "id": "1e59d78a",
   "metadata": {},
   "source": [
    "We can also calculate correlation using *numpy*."
   ]
  },
  {
   "cell_type": "code",
   "execution_count": 14,
   "id": "312dcead",
   "metadata": {},
   "outputs": [
    {
     "data": {
      "text/plain": [
       "array([[1.        , 0.92989745],\n",
       "       [0.92989745, 1.        ]])"
      ]
     },
     "execution_count": 14,
     "metadata": {},
     "output_type": "execute_result"
    }
   ],
   "source": [
    "np.corrcoef(height, weight)"
   ]
  },
  {
   "cell_type": "code",
   "execution_count": 15,
   "id": "eff8982f",
   "metadata": {},
   "outputs": [
    {
     "data": {
      "text/plain": [
       "0.9298974521408027"
      ]
     },
     "execution_count": 15,
     "metadata": {},
     "output_type": "execute_result"
    }
   ],
   "source": [
    "np.corrcoef(height, weight)[0][1]"
   ]
  }
 ],
 "metadata": {
  "kernelspec": {
   "display_name": "Python 3 (ipykernel)",
   "language": "python",
   "name": "python3"
  },
  "language_info": {
   "codemirror_mode": {
    "name": "ipython",
    "version": 3
   },
   "file_extension": ".py",
   "mimetype": "text/x-python",
   "name": "python",
   "nbconvert_exporter": "python",
   "pygments_lexer": "ipython3",
   "version": "3.9.12"
  }
 },
 "nbformat": 4,
 "nbformat_minor": 5
}
