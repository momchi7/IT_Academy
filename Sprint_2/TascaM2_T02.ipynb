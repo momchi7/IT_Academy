{
 "cells": [
  {
   "cell_type": "markdown",
   "id": "091e3590",
   "metadata": {},
   "source": [
    "### Exercici 1\n"
   ]
  },
  {
   "cell_type": "code",
   "execution_count": 3,
   "id": "dee7a14a",
   "metadata": {},
   "outputs": [],
   "source": [
    "trimestres = [[\"enero\", \"febrero\", \"marzo\"],\n",
    "              [\"abril\", \"mayo\", \"junio\"],\n",
    "              [\"julio\", \"agosto\", \"septiembre\"],\n",
    "              [\"octubre\", \"noviembre\", \"diciembre\"]]"
   ]
  },
  {
   "cell_type": "markdown",
   "id": "e126d22d",
   "metadata": {},
   "source": [
    "### Exercici 2"
   ]
  },
  {
   "cell_type": "code",
   "execution_count": 106,
   "id": "036f8989",
   "metadata": {},
   "outputs": [
    {
     "data": {
      "text/plain": [
       "'febrero'"
      ]
     },
     "execution_count": 106,
     "metadata": {},
     "output_type": "execute_result"
    }
   ],
   "source": [
    "#El segon mes del primer trimestre.\n",
    "trimestres[0][1]"
   ]
  },
  {
   "cell_type": "code",
   "execution_count": 104,
   "id": "d7dba275",
   "metadata": {},
   "outputs": [
    {
     "data": {
      "text/plain": [
       "['enero', 'febrero', 'marzo']"
      ]
     },
     "execution_count": 104,
     "metadata": {},
     "output_type": "execute_result"
    }
   ],
   "source": [
    "#Els mesos del primer trimestre.\n",
    "trimestres[0]"
   ]
  },
  {
   "cell_type": "code",
   "execution_count": 105,
   "id": "ac6299cb",
   "metadata": {},
   "outputs": [
    {
     "data": {
      "text/plain": [
       "'octubre'"
      ]
     },
     "execution_count": 105,
     "metadata": {},
     "output_type": "execute_result"
    }
   ],
   "source": [
    "#Setembre i octubre.\n",
    "trimestres[2][2]\n",
    "trimestres[3][0]"
   ]
  },
  {
   "cell_type": "markdown",
   "id": "203d6dc3",
   "metadata": {},
   "source": [
    "### Exercici 3"
   ]
  },
  {
   "cell_type": "code",
   "execution_count": 33,
   "id": "1b765163",
   "metadata": {},
   "outputs": [
    {
     "data": {
      "text/plain": [
       "[4, 0, 3, 10, 5, 3, 8, 10, 5, 3, 9, 3, 2, 0, 0, 8, 4, 10, 0, 6]"
      ]
     },
     "execution_count": 33,
     "metadata": {},
     "output_type": "execute_result"
    }
   ],
   "source": [
    "import random\n",
    "\n",
    "new_list = []\n",
    "\n",
    "for num in range(20):\n",
    "    outcome = random.randint(0,10)\n",
    "    new_list.append(outcome)\n",
    "    \n",
    "new_list"
   ]
  },
  {
   "cell_type": "code",
   "execution_count": 41,
   "id": "86539275",
   "metadata": {},
   "outputs": [
    {
     "data": {
      "text/plain": [
       "20"
      ]
     },
     "execution_count": 41,
     "metadata": {},
     "output_type": "execute_result"
    }
   ],
   "source": [
    "#Quants números hi ha?\n",
    "len(new_list)"
   ]
  },
  {
   "cell_type": "code",
   "execution_count": 34,
   "id": "95fd17e8",
   "metadata": {},
   "outputs": [
    {
     "data": {
      "text/plain": [
       "4"
      ]
     },
     "execution_count": 34,
     "metadata": {},
     "output_type": "execute_result"
    }
   ],
   "source": [
    "#Quantes vegades apareix el número 3.\n",
    "new_list.count(3)"
   ]
  },
  {
   "cell_type": "code",
   "execution_count": 39,
   "id": "c5a114fd",
   "metadata": {},
   "outputs": [
    {
     "data": {
      "text/plain": [
       "6"
      ]
     },
     "execution_count": 39,
     "metadata": {},
     "output_type": "execute_result"
    }
   ],
   "source": [
    "#Quantes vegades apareixen els nombres 3 i 4?\n",
    "total_three_four = new_list.count(3) + new_list.count(4)\n",
    "total_three_four"
   ]
  },
  {
   "cell_type": "code",
   "execution_count": 40,
   "id": "ebdb10ee",
   "metadata": {},
   "outputs": [
    {
     "data": {
      "text/plain": [
       "10"
      ]
     },
     "execution_count": 40,
     "metadata": {},
     "output_type": "execute_result"
    }
   ],
   "source": [
    "#Quin és el número més gran?\n",
    "max(new_list)"
   ]
  },
  {
   "cell_type": "code",
   "execution_count": 54,
   "id": "d255bff9",
   "metadata": {},
   "outputs": [
    {
     "data": {
      "text/plain": [
       "{0, 2, 3, 4, 5, 6, 8, 9, 10}"
      ]
     },
     "execution_count": 54,
     "metadata": {},
     "output_type": "execute_result"
    }
   ],
   "source": [
    "# remove duplicates\n",
    "new_set = set(new_list)\n",
    "new_set"
   ]
  },
  {
   "cell_type": "code",
   "execution_count": 57,
   "id": "cc4a5351",
   "metadata": {},
   "outputs": [
    {
     "data": {
      "text/plain": [
       "[0, 2, 3]"
      ]
     },
     "execution_count": 57,
     "metadata": {},
     "output_type": "execute_result"
    }
   ],
   "source": [
    "#Quins són els 3 números més petits?\n",
    "sorted_set=sorted(new_set)\n",
    "sorted_set[0:3]"
   ]
  },
  {
   "cell_type": "code",
   "execution_count": 59,
   "id": "e4836c0f",
   "metadata": {},
   "outputs": [
    {
     "data": {
      "text/plain": [
       "20"
      ]
     },
     "execution_count": 59,
     "metadata": {},
     "output_type": "execute_result"
    }
   ],
   "source": [
    "#Quin és el rang d’aquesta llista?\n",
    "len(new_list)"
   ]
  },
  {
   "cell_type": "markdown",
   "id": "1fe8a6d3",
   "metadata": {},
   "source": [
    "### Exercici 4"
   ]
  },
  {
   "cell_type": "code",
   "execution_count": 60,
   "id": "bd27eab4",
   "metadata": {},
   "outputs": [],
   "source": [
    "compra = { \"Pomes\" : {\"Qty\": 5, \"€\": 0.42},\n",
    "          \"Peres\" : {\"Qty\": 3, \"€\": 0.66} }"
   ]
  },
  {
   "cell_type": "code",
   "execution_count": 65,
   "id": "4fd1e2e2",
   "metadata": {},
   "outputs": [
    {
     "data": {
      "text/plain": [
       "{'Pomes': {'Qty': 5, '€': 0.42},\n",
       " 'Peres': {'Qty': 3, '€': 0.66},\n",
       " 'Kiwi': {'Qty': 6, '€': 0.85}}"
      ]
     },
     "execution_count": 65,
     "metadata": {},
     "output_type": "execute_result"
    }
   ],
   "source": [
    "#Afegeix alguna fruita més\n",
    "compra[\"Kiwi\"] = {\"Qty\": 6, '€': 0.85}\n",
    "compra"
   ]
  },
  {
   "cell_type": "code",
   "execution_count": 84,
   "id": "a4fed8e7",
   "metadata": {},
   "outputs": [
    {
     "name": "stdout",
     "output_type": "stream",
     "text": [
      "1.98\n"
     ]
    }
   ],
   "source": [
    "#Quant han costat les peres en total?\n",
    "\n",
    "for k,v in compra.items():\n",
    "    if k == \"Peres\":\n",
    "        print(v['Qty']*v['€'])"
   ]
  },
  {
   "cell_type": "code",
   "execution_count": 91,
   "id": "2cae194c",
   "metadata": {},
   "outputs": [],
   "source": [
    "total_uds=[]\n",
    "for k,v in compra.items():\n",
    "        total_uds.append(v['Qty'])"
   ]
  },
  {
   "cell_type": "code",
   "execution_count": 95,
   "id": "d22f1e51",
   "metadata": {},
   "outputs": [
    {
     "data": {
      "text/plain": [
       "14"
      ]
     },
     "execution_count": 95,
     "metadata": {},
     "output_type": "execute_result"
    }
   ],
   "source": [
    "#Quantes fruites hem comprat en total?\n",
    "sum(total_uds)"
   ]
  },
  {
   "cell_type": "code",
   "execution_count": 102,
   "id": "eae9be9e",
   "metadata": {},
   "outputs": [
    {
     "data": {
      "text/plain": [
       "0.85"
      ]
     },
     "execution_count": 102,
     "metadata": {},
     "output_type": "execute_result"
    }
   ],
   "source": [
    "#Quina és la fruita més cara?\n",
    "price=[]\n",
    "for k,v in compra.items():\n",
    "        price.append(v['€'])\n",
    "\n",
    "max(price)"
   ]
  }
 ],
 "metadata": {
  "kernelspec": {
   "display_name": "Python 3 (ipykernel)",
   "language": "python",
   "name": "python3"
  },
  "language_info": {
   "codemirror_mode": {
    "name": "ipython",
    "version": 3
   },
   "file_extension": ".py",
   "mimetype": "text/x-python",
   "name": "python",
   "nbconvert_exporter": "python",
   "pygments_lexer": "ipython3",
   "version": "3.9.12"
  }
 },
 "nbformat": 4,
 "nbformat_minor": 5
}
