{
 "cells": [
  {
   "cell_type": "markdown",
   "id": "158fbbc0",
   "metadata": {},
   "source": [
    "# Tasca M4 T01\n",
    "### Descripció\n",
    "Utilitzant les biblioteques de visualització de dades Matplotlib o Seaborn, realitza els següents exercicis.\n",
    "\n",
    "**RECORDA**: En la ciència de dades una de les tasques més importants és l'anàlisi. Una gràfica sempre ha d'anar acompanyada d'una explicació d'aquesta. Aporta informació."
   ]
  },
  {
   "cell_type": "code",
   "execution_count": 1,
   "id": "07fedb33",
   "metadata": {},
   "outputs": [
    {
     "name": "stdout",
     "output_type": "stream",
     "text": [
      "Setup Complete\n"
     ]
    }
   ],
   "source": [
    "import pandas as pd \n",
    "pd.plotting.register_matplotlib_converters()\n",
    "import matplotlib.pyplot as plt \n",
    "%matplotlib inline\n",
    "import seaborn as sns \n",
    "\n",
    "import matplotlib.dates as mdates\n",
    "import missingno as msn \n",
    "\n",
    "print(\"Setup Complete\")"
   ]
  },
  {
   "cell_type": "markdown",
   "id": "7394a0d5",
   "metadata": {},
   "source": [
    "### Exercici 1\n",
    "Descarrega el dataset adjunt **preu lloguer per trimestre i barri.csv** extret de la web ***OpenDataBCN*** i resumeix-lo **estadísticament** i **gràficament**.\n",
    "\n",
    "Crea almenys una visualització per:\n",
    "\n",
    "- Una variable categòrica (Districte o Barri)\n",
    "- Una variable numèrica (Preu)\n",
    "- Una variable numèrica i una categòrica (Districte i Preu)\n",
    "- Dues variables numèriques (Any o Trimestre i Preu)\n",
    "- Tres variables (Barri o Districte, Trimestre i Preu)"
   ]
  },
  {
   "cell_type": "code",
   "execution_count": 2,
   "id": "a75b99fd",
   "metadata": {},
   "outputs": [],
   "source": [
    "flat_rentals=pd.read_csv(\"./preu lloguer per trimestre i barri.csv\")"
   ]
  },
  {
   "cell_type": "code",
   "execution_count": 3,
   "id": "29503b14",
   "metadata": {
    "scrolled": true
   },
   "outputs": [
    {
     "data": {
      "text/html": [
       "<div>\n",
       "<style scoped>\n",
       "    .dataframe tbody tr th:only-of-type {\n",
       "        vertical-align: middle;\n",
       "    }\n",
       "\n",
       "    .dataframe tbody tr th {\n",
       "        vertical-align: top;\n",
       "    }\n",
       "\n",
       "    .dataframe thead th {\n",
       "        text-align: right;\n",
       "    }\n",
       "</style>\n",
       "<table border=\"1\" class=\"dataframe\">\n",
       "  <thead>\n",
       "    <tr style=\"text-align: right;\">\n",
       "      <th></th>\n",
       "      <th>Any</th>\n",
       "      <th>Trimestre</th>\n",
       "      <th>Codi_Districte</th>\n",
       "      <th>Nom_Districte</th>\n",
       "      <th>Codi_Barri</th>\n",
       "      <th>Nom_Barri</th>\n",
       "      <th>Lloguer_mitja</th>\n",
       "      <th>Preu</th>\n",
       "    </tr>\n",
       "  </thead>\n",
       "  <tbody>\n",
       "    <tr>\n",
       "      <th>0</th>\n",
       "      <td>2021</td>\n",
       "      <td>1</td>\n",
       "      <td>1</td>\n",
       "      <td>Ciutat Vella</td>\n",
       "      <td>1</td>\n",
       "      <td>el Raval</td>\n",
       "      <td>Lloguer mitjà mensual (Euros/mes)</td>\n",
       "      <td>759.2</td>\n",
       "    </tr>\n",
       "    <tr>\n",
       "      <th>1</th>\n",
       "      <td>2021</td>\n",
       "      <td>1</td>\n",
       "      <td>1</td>\n",
       "      <td>Ciutat Vella</td>\n",
       "      <td>2</td>\n",
       "      <td>el Barri Gòtic</td>\n",
       "      <td>Lloguer mitjà mensual (Euros/mes)</td>\n",
       "      <td>929.6</td>\n",
       "    </tr>\n",
       "    <tr>\n",
       "      <th>2</th>\n",
       "      <td>2021</td>\n",
       "      <td>1</td>\n",
       "      <td>1</td>\n",
       "      <td>Ciutat Vella</td>\n",
       "      <td>3</td>\n",
       "      <td>la Barceloneta</td>\n",
       "      <td>Lloguer mitjà mensual (Euros/mes)</td>\n",
       "      <td>808.9</td>\n",
       "    </tr>\n",
       "    <tr>\n",
       "      <th>3</th>\n",
       "      <td>2021</td>\n",
       "      <td>1</td>\n",
       "      <td>1</td>\n",
       "      <td>Ciutat Vella</td>\n",
       "      <td>4</td>\n",
       "      <td>Sant Pere, Santa Caterina i la Ribera</td>\n",
       "      <td>Lloguer mitjà mensual (Euros/mes)</td>\n",
       "      <td>879.4</td>\n",
       "    </tr>\n",
       "    <tr>\n",
       "      <th>4</th>\n",
       "      <td>2021</td>\n",
       "      <td>1</td>\n",
       "      <td>2</td>\n",
       "      <td>Eixample</td>\n",
       "      <td>5</td>\n",
       "      <td>el Fort Pienc</td>\n",
       "      <td>Lloguer mitjà mensual (Euros/mes)</td>\n",
       "      <td>918.0</td>\n",
       "    </tr>\n",
       "  </tbody>\n",
       "</table>\n",
       "</div>"
      ],
      "text/plain": [
       "    Any  Trimestre  Codi_Districte Nom_Districte  Codi_Barri  \\\n",
       "0  2021          1               1  Ciutat Vella           1   \n",
       "1  2021          1               1  Ciutat Vella           2   \n",
       "2  2021          1               1  Ciutat Vella           3   \n",
       "3  2021          1               1  Ciutat Vella           4   \n",
       "4  2021          1               2      Eixample           5   \n",
       "\n",
       "                               Nom_Barri                      Lloguer_mitja  \\\n",
       "0                               el Raval  Lloguer mitjà mensual (Euros/mes)   \n",
       "1                         el Barri Gòtic  Lloguer mitjà mensual (Euros/mes)   \n",
       "2                         la Barceloneta  Lloguer mitjà mensual (Euros/mes)   \n",
       "3  Sant Pere, Santa Caterina i la Ribera  Lloguer mitjà mensual (Euros/mes)   \n",
       "4                          el Fort Pienc  Lloguer mitjà mensual (Euros/mes)   \n",
       "\n",
       "    Preu  \n",
       "0  759.2  \n",
       "1  929.6  \n",
       "2  808.9  \n",
       "3  879.4  \n",
       "4  918.0  "
      ]
     },
     "execution_count": 3,
     "metadata": {},
     "output_type": "execute_result"
    }
   ],
   "source": [
    "flat_rentals.head()"
   ]
  },
  {
   "cell_type": "code",
   "execution_count": 4,
   "id": "c4e56335",
   "metadata": {},
   "outputs": [
    {
     "data": {
      "text/plain": [
       "(584, 8)"
      ]
     },
     "execution_count": 4,
     "metadata": {},
     "output_type": "execute_result"
    }
   ],
   "source": [
    "# rows, columns \n",
    "flat_rentals.shape"
   ]
  },
  {
   "cell_type": "code",
   "execution_count": 5,
   "id": "6e7e14c1",
   "metadata": {
    "scrolled": true
   },
   "outputs": [
    {
     "data": {
      "text/plain": [
       "array([2021], dtype=int64)"
      ]
     },
     "execution_count": 5,
     "metadata": {},
     "output_type": "execute_result"
    }
   ],
   "source": [
    "# data is related only to 2021\n",
    "flat_rentals[\"Any\"].unique()"
   ]
  },
  {
   "cell_type": "code",
   "execution_count": 6,
   "id": "3da8e2e6",
   "metadata": {},
   "outputs": [
    {
     "name": "stdout",
     "output_type": "stream",
     "text": [
      "<class 'pandas.core.frame.DataFrame'>\n",
      "RangeIndex: 584 entries, 0 to 583\n",
      "Data columns (total 8 columns):\n",
      " #   Column          Non-Null Count  Dtype \n",
      "---  ------          --------------  ----- \n",
      " 0   Any             584 non-null    int64 \n",
      " 1   Trimestre       584 non-null    int64 \n",
      " 2   Codi_Districte  584 non-null    int64 \n",
      " 3   Nom_Districte   584 non-null    object\n",
      " 4   Codi_Barri      584 non-null    int64 \n",
      " 5   Nom_Barri       584 non-null    object\n",
      " 6   Lloguer_mitja   584 non-null    object\n",
      " 7   Preu            584 non-null    object\n",
      "dtypes: int64(4), object(4)\n",
      "memory usage: 36.6+ KB\n"
     ]
    }
   ],
   "source": [
    "# data type for each variable \n",
    "\n",
    "flat_rentals.info()"
   ]
  },
  {
   "cell_type": "markdown",
   "id": "2df9b3ad",
   "metadata": {},
   "source": [
    "Variable \"Preu\" is data type `object`. We will have to convert it to `float`. "
   ]
  },
  {
   "cell_type": "code",
   "execution_count": 7,
   "id": "169668e6",
   "metadata": {},
   "outputs": [
    {
     "data": {
      "text/plain": [
       "422       --\n",
       "420       --\n",
       "418       --\n",
       "265       --\n",
       "411       --\n",
       "       ...  \n",
       "311    982.9\n",
       "26     990.1\n",
       "18     990.3\n",
       "464    998.3\n",
       "164    998.8\n",
       "Name: Preu, Length: 584, dtype: object"
      ]
     },
     "execution_count": 7,
     "metadata": {},
     "output_type": "execute_result"
    }
   ],
   "source": [
    "flat_rentals[\"Preu\"].sort_values()"
   ]
  },
  {
   "cell_type": "markdown",
   "id": "ef962758",
   "metadata": {},
   "source": [
    "We can observe two things.\n",
    "1. Column \"Preu\" has data type *object*. We need to convert it to *float*, by **casting types**. \n",
    "2. The mean will be affected if we cast it as **zero**, making the mean not significant. We want the mean to ignore \"*--*\" values, we will have to cast it as ***#NaN***."
   ]
  },
  {
   "cell_type": "code",
   "execution_count": 8,
   "id": "7be202c0",
   "metadata": {},
   "outputs": [],
   "source": [
    "# replace \"--\" to \"nan\"\n",
    "\n",
    "flat_rentals[\"Preu\"].replace(\"--\",\"nan\",inplace=True)"
   ]
  },
  {
   "cell_type": "markdown",
   "id": "b6fc8b08",
   "metadata": {},
   "source": [
    "**Casting types**."
   ]
  },
  {
   "cell_type": "code",
   "execution_count": 9,
   "id": "bb23c1b9",
   "metadata": {},
   "outputs": [
    {
     "data": {
      "text/plain": [
       "0      759.2\n",
       "1      929.6\n",
       "2      808.9\n",
       "3      879.4\n",
       "4      918.0\n",
       "       ...  \n",
       "579     15.2\n",
       "580     10.8\n",
       "581     13.8\n",
       "582     11.7\n",
       "583     11.3\n",
       "Name: Preu, Length: 584, dtype: float64"
      ]
     },
     "execution_count": 9,
     "metadata": {},
     "output_type": "execute_result"
    }
   ],
   "source": [
    "# cast types to float\n",
    "\n",
    "flat_rentals[\"Preu\"].astype(float)"
   ]
  },
  {
   "cell_type": "code",
   "execution_count": 10,
   "id": "2e42ac28",
   "metadata": {},
   "outputs": [],
   "source": [
    "# reassign the variable \"Preu\"\n",
    "flat_rentals[\"Preu\"]=flat_rentals[\"Preu\"].astype(float)"
   ]
  },
  {
   "cell_type": "markdown",
   "id": "6c9d16a7",
   "metadata": {},
   "source": [
    "We can see that \"Preu\" type is *float*."
   ]
  },
  {
   "cell_type": "code",
   "execution_count": 11,
   "id": "90d70829",
   "metadata": {},
   "outputs": [
    {
     "data": {
      "text/plain": [
       "Any                 int64\n",
       "Trimestre           int64\n",
       "Codi_Districte      int64\n",
       "Nom_Districte      object\n",
       "Codi_Barri          int64\n",
       "Nom_Barri          object\n",
       "Lloguer_mitja      object\n",
       "Preu              float64\n",
       "dtype: object"
      ]
     },
     "execution_count": 11,
     "metadata": {},
     "output_type": "execute_result"
    }
   ],
   "source": [
    "flat_rentals.dtypes"
   ]
  },
  {
   "cell_type": "code",
   "execution_count": 12,
   "id": "112baea6",
   "metadata": {
    "scrolled": true
   },
   "outputs": [
    {
     "data": {
      "text/plain": [
       "array(['Ciutat Vella', 'Eixample', 'Sants-Montjuïc', 'Les Corts',\n",
       "       'Sarrià-Sant Gervasi', 'Gràcia', 'Horta-Guinardó', 'Nou Barris',\n",
       "       'Sant Andreu', 'Sant Martí'], dtype=object)"
      ]
     },
     "execution_count": 12,
     "metadata": {},
     "output_type": "execute_result"
    }
   ],
   "source": [
    "# districts in the dataset\n",
    "lst_districs = flat_rentals[\"Nom_Districte\"].unique()\n",
    "lst_districs"
   ]
  },
  {
   "cell_type": "code",
   "execution_count": 13,
   "id": "0704fc1a",
   "metadata": {},
   "outputs": [
    {
     "data": {
      "text/plain": [
       "Any                0\n",
       "Trimestre          0\n",
       "Codi_Districte     0\n",
       "Nom_Districte      0\n",
       "Codi_Barri         0\n",
       "Nom_Barri          0\n",
       "Lloguer_mitja      0\n",
       "Preu              44\n",
       "dtype: int64"
      ]
     },
     "execution_count": 13,
     "metadata": {},
     "output_type": "execute_result"
    }
   ],
   "source": [
    "# check for missing values in \"flat_rentals\"\n",
    "\n",
    "flat_rentals.isna().sum()"
   ]
  },
  {
   "cell_type": "markdown",
   "id": "0b9efdab",
   "metadata": {},
   "source": [
    "Variable \"Preu\" has 44 missing values."
   ]
  },
  {
   "cell_type": "code",
   "execution_count": 14,
   "id": "d39c90bc",
   "metadata": {},
   "outputs": [
    {
     "data": {
      "text/plain": [
       "<AxesSubplot:>"
      ]
     },
     "execution_count": 14,
     "metadata": {},
     "output_type": "execute_result"
    },
    {
     "data": {
      "image/png": "[encoded data removed]",
      "text/plain": [
       "<Figure size 1800x720 with 2 Axes>"
      ]
     },
     "metadata": {
      "needs_background": "light"
     },
     "output_type": "display_data"
    }
   ],
   "source": [
    "# we can observe that there are some missing values in column \"Preu\".\n",
    "msn.matrix(flat_rentals)"
   ]
  },
  {
   "cell_type": "markdown",
   "id": "568d7460",
   "metadata": {},
   "source": [
    "# Let's analize the average monthly rent for Q1."
   ]
  },
  {
   "cell_type": "code",
   "execution_count": 15,
   "id": "d7400083",
   "metadata": {},
   "outputs": [],
   "source": [
    "filt_Lloguer_mitja_mes_trimestre_primero= (flat_rentals[\"Lloguer_mitja\"]==\"Lloguer mitjà mensual (Euros/mes)\") & (flat_rentals[\"Trimestre\"]==1)"
   ]
  },
  {
   "cell_type": "code",
   "execution_count": 16,
   "id": "a891bc35",
   "metadata": {},
   "outputs": [
    {
     "data": {
      "text/plain": [
       "count      67.0\n",
       "mean      869.0\n",
       "std       222.0\n",
       "min       520.0\n",
       "25%       741.0\n",
       "50%       809.0\n",
       "75%       928.0\n",
       "max      1598.0\n",
       "Name: Preu, dtype: float64"
      ]
     },
     "execution_count": 16,
     "metadata": {},
     "output_type": "execute_result"
    }
   ],
   "source": [
    "flat_rentals.loc[filt_Lloguer_mitja_mes_trimestre_primero,\"Preu\"].describe().round()"
   ]
  },
  {
   "cell_type": "markdown",
   "id": "7d4769b4",
   "metadata": {},
   "source": [
    "We can observe for **Q1** the following: \n",
    "- Average monthly rent is 869,00€.\n",
    "- Median monthly rent is 809,00€. The mean is higher than the median due to the presence of extreme values. \n",
    "- Maximum value is 1598,00€ (almost twice the mean). "
   ]
  },
  {
   "cell_type": "code",
   "execution_count": 17,
   "id": "6a4b9a7a",
   "metadata": {},
   "outputs": [
    {
     "data": {
      "text/plain": [
       "Any               73\n",
       "Trimestre         73\n",
       "Codi_Districte    73\n",
       "Nom_Districte     73\n",
       "Codi_Barri        73\n",
       "Nom_Barri         73\n",
       "Lloguer_mitja     73\n",
       "Preu              67\n",
       "dtype: int64"
      ]
     },
     "execution_count": 17,
     "metadata": {},
     "output_type": "execute_result"
    }
   ],
   "source": [
    "flat_rentals.loc[filt_Lloguer_mitja_mes_trimestre_primero].count()"
   ]
  },
  {
   "cell_type": "markdown",
   "id": "ce91b5b4",
   "metadata": {},
   "source": [
    "There are **six** missing values in **Q1** for \"Lloguer mitjà mensual (Euros/mes)\"."
   ]
  },
  {
   "cell_type": "code",
   "execution_count": 18,
   "id": "42b21181",
   "metadata": {},
   "outputs": [
    {
     "data": {
      "text/plain": [
       "array(['Lloguer mitjà mensual (Euros/mes)',\n",
       "       'Lloguer mitjà per superfície (Euros/m2 mes)'], dtype=object)"
      ]
     },
     "execution_count": 18,
     "metadata": {},
     "output_type": "execute_result"
    }
   ],
   "source": [
    "# check for unique values in column \"Lloguer_mitja\" \n",
    "\n",
    "flat_rentals[\"Lloguer_mitja\"].unique()"
   ]
  },
  {
   "cell_type": "markdown",
   "id": "01521e5c",
   "metadata": {},
   "source": [
    "### Una variable categòrica (Districte o Barri)"
   ]
  },
  {
   "cell_type": "code",
   "execution_count": 19,
   "id": "ff3e9dc5",
   "metadata": {},
   "outputs": [
    {
     "data": {
      "text/plain": [
       "Nou Barris             13\n",
       "Horta-Guinardó         11\n",
       "Sant Martí             10\n",
       "Sants-Montjuïc          8\n",
       "Sant Andreu             7\n",
       "Eixample                6\n",
       "Sarrià-Sant Gervasi     6\n",
       "Gràcia                  5\n",
       "Ciutat Vella            4\n",
       "Les Corts               3\n",
       "Name: Nom_Districte, dtype: int64"
      ]
     },
     "execution_count": 19,
     "metadata": {},
     "output_type": "execute_result"
    }
   ],
   "source": [
    "count_Barris = flat_rentals.loc[filt_Lloguer_mitja_mes_trimestre_primero,\"Nom_Districte\"].value_counts()\n",
    "count_Barris"
   ]
  },
  {
   "cell_type": "code",
   "execution_count": 20,
   "id": "2cfdb349",
   "metadata": {},
   "outputs": [
    {
     "data": {
      "text/plain": [
       "10"
      ]
     },
     "execution_count": 20,
     "metadata": {},
     "output_type": "execute_result"
    }
   ],
   "source": [
    "# check number of districts\n",
    "count_Barris.count()"
   ]
  },
  {
   "cell_type": "code",
   "execution_count": 21,
   "id": "2f1b8f58",
   "metadata": {},
   "outputs": [
    {
     "data": {
      "text/plain": [
       "[Text(0, 0, 'Nou Barris'),\n",
       " Text(0, 1, 'Horta-Guinardó'),\n",
       " Text(0, 2, 'Sant Martí'),\n",
       " Text(0, 3, 'Sants-Montjuïc'),\n",
       " Text(0, 4, 'Sant Andreu'),\n",
       " Text(0, 5, 'Eixample'),\n",
       " Text(0, 6, 'Sarrià-Sant Gervasi'),\n",
       " Text(0, 7, 'Gràcia'),\n",
       " Text(0, 8, 'Ciutat Vella'),\n",
       " Text(0, 9, 'Les Corts')]"
      ]
     },
     "execution_count": 21,
     "metadata": {},
     "output_type": "execute_result"
    },
    {
     "data": {
      "image/png": "[encoded data removed]",
      "text/plain": [
       "<Figure size 720x504 with 1 Axes>"
      ]
     },
     "metadata": {
      "needs_background": "light"
     },
     "output_type": "display_data"
    }
   ],
   "source": [
    "# set figure, axis as fig,ax\n",
    "# set width and height \n",
    "fig, ax = plt.subplots(figsize=(10,7))\n",
    "\n",
    "# create bar plot \n",
    "barplot_num_barris_q1 = sns.barplot(x=count_Barris.values, y = count_Barris.index,\n",
    "           palette=\"flare\", ax=ax)\n",
    "\n",
    "# add a title\n",
    "ax.set_title(\"Número de Barris en Barcelona durante Q1 del 2021, por Distrito\")\n",
    "\n",
    "# add label to y axis\n",
    "ax.set_ylabel(\"Distrito\")\n",
    "\n",
    "# add label to x axis\n",
    "ax.set_xlabel(\"Número de Barris\")\n",
    "\n",
    "# change the size of the y labels \n",
    "barplot_num_barris_q1.set_yticklabels(barplot_num_barris_q1.get_ymajorticklabels(), fontsize = 8)"
   ]
  },
  {
   "cell_type": "markdown",
   "id": "0d0d2277",
   "metadata": {},
   "source": [
    "We have ten districts. The district with the highest number of **neighbourhoods** is **Nou Barris** (13) and **Les Corts** has the least number of neighbourhoods (3)."
   ]
  },
  {
   "cell_type": "markdown",
   "id": "9e9a8412",
   "metadata": {},
   "source": [
    "### Una variable numèrica (Preu)"
   ]
  },
  {
   "cell_type": "code",
   "execution_count": 22,
   "id": "8b2ea9dd",
   "metadata": {},
   "outputs": [
    {
     "data": {
      "text/plain": [
       "count      67.0\n",
       "mean      869.0\n",
       "std       222.0\n",
       "min       520.0\n",
       "25%       741.0\n",
       "50%       809.0\n",
       "75%       928.0\n",
       "max      1598.0\n",
       "Name: Preu, dtype: float64"
      ]
     },
     "execution_count": 22,
     "metadata": {},
     "output_type": "execute_result"
    }
   ],
   "source": [
    "flat_rentals.loc[filt_Lloguer_mitja_mes_trimestre_primero,\"Preu\"].describe().round()"
   ]
  },
  {
   "cell_type": "code",
   "execution_count": 23,
   "id": "18ca685a",
   "metadata": {
    "scrolled": false
   },
   "outputs": [
    {
     "data": {
      "text/plain": [
       "Text(0, 0.5, 'Price')"
      ]
     },
     "execution_count": 23,
     "metadata": {},
     "output_type": "execute_result"
    },
    {
     "data": {
      "image/png": "[encoded data removed]",
      "text/plain": [
       "<Figure size 720x504 with 1 Axes>"
      ]
     },
     "metadata": {
      "needs_background": "light"
     },
     "output_type": "display_data"
    }
   ],
   "source": [
    "# set fig,ax \n",
    "# set width and height for figure\n",
    "fig, ax = plt.subplots(figsize=(10,7))\n",
    "\n",
    "# create box plot \n",
    "bxplt_av_rent_price_q1=sns.boxplot(data=flat_rentals.loc[filt_Lloguer_mitja_mes_trimestre_primero,\"Preu\"], fliersize=4, \n",
    "                                   ax=ax)\n",
    "\n",
    "# set title\n",
    "ax.set_title(\"Average monthly rent price (EUR) in Barcelona for Q1\")\n",
    "\n",
    "# set label for y label \n",
    "ax.set_ylabel(\"Price\")\n"
   ]
  },
  {
   "cell_type": "markdown",
   "id": "b1c3c0a7",
   "metadata": {},
   "source": [
    "The above boxplot shows the quartiles of the variable \"Preu\" for Q1.\n",
    "- Median is 809,00€/month. \n",
    "- 50% of the rents are between 700€/month and below 950€/month.\n",
    "- 25% of the rents are above 950€/month. \n",
    "- There are five rental prices that are outliers, by using the inter-quartile range."
   ]
  },
  {
   "cell_type": "markdown",
   "id": "e2a1a9e8",
   "metadata": {},
   "source": [
    "### Una variable numèrica i una categòrica (Districte i Preu)"
   ]
  },
  {
   "cell_type": "markdown",
   "id": "b1f8f130",
   "metadata": {},
   "source": [
    "https://www.data-to-viz.com/#density"
   ]
  },
  {
   "cell_type": "markdown",
   "id": "e166e400",
   "metadata": {},
   "source": [
    "# Average rent by area (EUR/m2)"
   ]
  },
  {
   "cell_type": "code",
   "execution_count": 24,
   "id": "77ee989e",
   "metadata": {},
   "outputs": [],
   "source": [
    "filt_price_sq_meter=flat_rentals[\"Lloguer_mitja\"]==\"Lloguer mitjà per superfície (Euros/m2 mes)\""
   ]
  },
  {
   "cell_type": "code",
   "execution_count": 25,
   "id": "7198586d",
   "metadata": {},
   "outputs": [],
   "source": [
    "district_sq_meter_price = flat_rentals.loc[filt_price_sq_meter,[\"Nom_Districte\",\"Preu\"]]"
   ]
  },
  {
   "cell_type": "code",
   "execution_count": 26,
   "id": "a34da67a",
   "metadata": {},
   "outputs": [
    {
     "data": {
      "text/html": [
       "<div>\n",
       "<style scoped>\n",
       "    .dataframe tbody tr th:only-of-type {\n",
       "        vertical-align: middle;\n",
       "    }\n",
       "\n",
       "    .dataframe tbody tr th {\n",
       "        vertical-align: top;\n",
       "    }\n",
       "\n",
       "    .dataframe thead th {\n",
       "        text-align: right;\n",
       "    }\n",
       "</style>\n",
       "<table border=\"1\" class=\"dataframe\">\n",
       "  <thead>\n",
       "    <tr style=\"text-align: right;\">\n",
       "      <th></th>\n",
       "      <th>Nom_Districte</th>\n",
       "      <th>Preu</th>\n",
       "    </tr>\n",
       "  </thead>\n",
       "  <tbody>\n",
       "    <tr>\n",
       "      <th>73</th>\n",
       "      <td>Ciutat Vella</td>\n",
       "      <td>12.8</td>\n",
       "    </tr>\n",
       "    <tr>\n",
       "      <th>74</th>\n",
       "      <td>Ciutat Vella</td>\n",
       "      <td>12.3</td>\n",
       "    </tr>\n",
       "    <tr>\n",
       "      <th>75</th>\n",
       "      <td>Ciutat Vella</td>\n",
       "      <td>15.5</td>\n",
       "    </tr>\n",
       "    <tr>\n",
       "      <th>76</th>\n",
       "      <td>Ciutat Vella</td>\n",
       "      <td>13.3</td>\n",
       "    </tr>\n",
       "    <tr>\n",
       "      <th>77</th>\n",
       "      <td>Eixample</td>\n",
       "      <td>12.9</td>\n",
       "    </tr>\n",
       "    <tr>\n",
       "      <th>...</th>\n",
       "      <td>...</td>\n",
       "      <td>...</td>\n",
       "    </tr>\n",
       "    <tr>\n",
       "      <th>579</th>\n",
       "      <td>Sant Martí</td>\n",
       "      <td>15.2</td>\n",
       "    </tr>\n",
       "    <tr>\n",
       "      <th>580</th>\n",
       "      <td>Sant Martí</td>\n",
       "      <td>10.8</td>\n",
       "    </tr>\n",
       "    <tr>\n",
       "      <th>581</th>\n",
       "      <td>Sant Martí</td>\n",
       "      <td>13.8</td>\n",
       "    </tr>\n",
       "    <tr>\n",
       "      <th>582</th>\n",
       "      <td>Sant Martí</td>\n",
       "      <td>11.7</td>\n",
       "    </tr>\n",
       "    <tr>\n",
       "      <th>583</th>\n",
       "      <td>Sant Martí</td>\n",
       "      <td>11.3</td>\n",
       "    </tr>\n",
       "  </tbody>\n",
       "</table>\n",
       "<p>292 rows × 2 columns</p>\n",
       "</div>"
      ],
      "text/plain": [
       "    Nom_Districte  Preu\n",
       "73   Ciutat Vella  12.8\n",
       "74   Ciutat Vella  12.3\n",
       "75   Ciutat Vella  15.5\n",
       "76   Ciutat Vella  13.3\n",
       "77       Eixample  12.9\n",
       "..            ...   ...\n",
       "579    Sant Martí  15.2\n",
       "580    Sant Martí  10.8\n",
       "581    Sant Martí  13.8\n",
       "582    Sant Martí  11.7\n",
       "583    Sant Martí  11.3\n",
       "\n",
       "[292 rows x 2 columns]"
      ]
     },
     "execution_count": 26,
     "metadata": {},
     "output_type": "execute_result"
    }
   ],
   "source": [
    "district_sq_meter_price"
   ]
  },
  {
   "cell_type": "code",
   "execution_count": 27,
   "id": "9fa6d848",
   "metadata": {},
   "outputs": [
    {
     "data": {
      "text/html": [
       "<div>\n",
       "<style scoped>\n",
       "    .dataframe tbody tr th:only-of-type {\n",
       "        vertical-align: middle;\n",
       "    }\n",
       "\n",
       "    .dataframe tbody tr th {\n",
       "        vertical-align: top;\n",
       "    }\n",
       "\n",
       "    .dataframe thead th {\n",
       "        text-align: right;\n",
       "    }\n",
       "</style>\n",
       "<table border=\"1\" class=\"dataframe\">\n",
       "  <thead>\n",
       "    <tr style=\"text-align: right;\">\n",
       "      <th></th>\n",
       "      <th>Preu</th>\n",
       "    </tr>\n",
       "  </thead>\n",
       "  <tbody>\n",
       "    <tr>\n",
       "      <th>count</th>\n",
       "      <td>270.000000</td>\n",
       "    </tr>\n",
       "    <tr>\n",
       "      <th>mean</th>\n",
       "      <td>12.720741</td>\n",
       "    </tr>\n",
       "    <tr>\n",
       "      <th>std</th>\n",
       "      <td>1.701480</td>\n",
       "    </tr>\n",
       "    <tr>\n",
       "      <th>min</th>\n",
       "      <td>6.700000</td>\n",
       "    </tr>\n",
       "    <tr>\n",
       "      <th>25%</th>\n",
       "      <td>11.625000</td>\n",
       "    </tr>\n",
       "    <tr>\n",
       "      <th>50%</th>\n",
       "      <td>12.750000</td>\n",
       "    </tr>\n",
       "    <tr>\n",
       "      <th>75%</th>\n",
       "      <td>13.600000</td>\n",
       "    </tr>\n",
       "    <tr>\n",
       "      <th>max</th>\n",
       "      <td>18.000000</td>\n",
       "    </tr>\n",
       "  </tbody>\n",
       "</table>\n",
       "</div>"
      ],
      "text/plain": [
       "             Preu\n",
       "count  270.000000\n",
       "mean    12.720741\n",
       "std      1.701480\n",
       "min      6.700000\n",
       "25%     11.625000\n",
       "50%     12.750000\n",
       "75%     13.600000\n",
       "max     18.000000"
      ]
     },
     "execution_count": 27,
     "metadata": {},
     "output_type": "execute_result"
    }
   ],
   "source": [
    "district_sq_meter_price.describe()"
   ]
  },
  {
   "cell_type": "code",
   "execution_count": 28,
   "id": "8e64ceee",
   "metadata": {},
   "outputs": [
    {
     "data": {
      "text/plain": [
       "Text(0.5, 0, 'EUR/m2')"
      ]
     },
     "execution_count": 28,
     "metadata": {},
     "output_type": "execute_result"
    },
    {
     "data": {
      "image/png": "[encoded data removed]",
      "text/plain": [
       "<Figure size 720x504 with 1 Axes>"
      ]
     },
     "metadata": {
      "needs_background": "light"
     },
     "output_type": "display_data"
    }
   ],
   "source": [
    "# set fig, ax for figure, axis\n",
    "# set width and height \n",
    "fig, ax = plt.subplots(figsize=(10,7))\n",
    "\n",
    "# create a kernel-density plot\n",
    "kplot_rent_sqm_q1=sns.kdeplot(data=district_sq_meter_price, shade=True, palette=\"rocket\", ax=ax)\n",
    "\n",
    "# set title\n",
    "ax.set_title(\"Distribution of rental prices in Barcelona for Q1 in 2021, by square meter\")\n",
    "\n",
    "# set label for x axis\n",
    "ax.set_xlabel(\"EUR/m2\")"
   ]
  },
  {
   "cell_type": "markdown",
   "id": "ec5c615f",
   "metadata": {},
   "source": [
    "Observations for Q1 in 2021 (Barcelona).\n",
    "- Since the mean and the median are almost the same, the mean is representative for the distribution of rental prices based on EUR/m2.\n",
    "- Standard deviation is *1,7*. The majority of the data is spread closer to the mean. \n",
    "- 50,00% of the prices EUR/m2 are above 11,62€/m2 and below 13,60€/m2. "
   ]
  },
  {
   "cell_type": "markdown",
   "id": "70a161f3",
   "metadata": {},
   "source": [
    "### Dues variables numèriques (Any o Trimestre i Preu)"
   ]
  },
  {
   "cell_type": "code",
   "execution_count": 29,
   "id": "68639d7d",
   "metadata": {
    "scrolled": true
   },
   "outputs": [
    {
     "data": {
      "text/plain": [
       "Lloguer_mitja                                Trimestre\n",
       "Lloguer mitjà mensual (Euros/mes)            1            869.304478\n",
       "                                             2            851.910294\n",
       "                                             3            880.794030\n",
       "                                             4            884.467647\n",
       "Lloguer mitjà per superfície (Euros/m2 mes)  1             12.691045\n",
       "                                             2             12.564706\n",
       "                                             3             12.771642\n",
       "                                             4             12.855882\n",
       "Name: Preu, dtype: float64"
      ]
     },
     "execution_count": 29,
     "metadata": {},
     "output_type": "execute_result"
    }
   ],
   "source": [
    "# average rental prices grouped by \"Lloguer_mitja\" and \"Trimestre\"\n",
    "\n",
    "grp_mean_rental_prices_q= flat_rentals.groupby(by=[\"Lloguer_mitja\",\"Trimestre\"], dropna=True)[\"Preu\"].mean()\n",
    "grp_mean_rental_prices_q"
   ]
  },
  {
   "cell_type": "markdown",
   "id": "15e8b216",
   "metadata": {},
   "source": [
    "Average rental prices by area (EUR/m2) for *Q1* - *Q4* in 2021. "
   ]
  },
  {
   "cell_type": "code",
   "execution_count": 30,
   "id": "73470f94",
   "metadata": {},
   "outputs": [
    {
     "data": {
      "text/plain": [
       "Trimestre\n",
       "1    12.691045\n",
       "2    12.564706\n",
       "3    12.771642\n",
       "4    12.855882\n",
       "Name: Preu, dtype: float64"
      ]
     },
     "execution_count": 30,
     "metadata": {},
     "output_type": "execute_result"
    }
   ],
   "source": [
    "average_rental_prices_by_area= grp_mean_rental_prices_q.loc[\"Lloguer mitjà per superfície (Euros/m2 mes)\"]\n",
    "average_rental_prices_by_area"
   ]
  },
  {
   "cell_type": "code",
   "execution_count": 31,
   "id": "caddc067",
   "metadata": {
    "scrolled": false
   },
   "outputs": [
    {
     "data": {
      "text/plain": [
       "Text(0.5, 0, 'Quarter')"
      ]
     },
     "execution_count": 31,
     "metadata": {},
     "output_type": "execute_result"
    },
    {
     "data": {
      "image/png": "[encoded data removed]",
      "text/plain": [
       "<Figure size 720x504 with 1 Axes>"
      ]
     },
     "metadata": {
      "needs_background": "light"
     },
     "output_type": "display_data"
    }
   ],
   "source": [
    "# create figure, axes as fig,ax\n",
    "# set width and height for figure\n",
    "fig, ax = plt.subplots(figsize=(10,7))\n",
    "\n",
    "# create lineplot\n",
    "lplot_average_rent_by_area_2021 = sns.lineplot(data=average_rental_prices_by_area, ax=ax)\n",
    "\n",
    "lplot_average_rent_by_area_2021.set_xticks([1,2,3,4])\n",
    "\n",
    "# set title\n",
    "ax.set_title(\"Average rental prices for Q1 - Q4 in 2021, by square meter\")\n",
    "\n",
    "# set label for y axes\n",
    "ax.set_ylabel(\"Price EUR/month\")\n",
    "\n",
    "# set label for x axis\n",
    "ax.set_xlabel(\"Quarter\")"
   ]
  },
  {
   "cell_type": "markdown",
   "id": "ba35f86a",
   "metadata": {},
   "source": [
    "We can see that the average rental price per m2 decreased in Q2 for 2021. However, it increased both in Q3 and Q4 resulting in 12.85 €/m2. \n",
    "\n",
    "**Just with the above information we can say that the best time to sign an agreement for a new rent was during Q2 of 2021**. "
   ]
  },
  {
   "cell_type": "markdown",
   "id": "1aab2ff1",
   "metadata": {},
   "source": [
    "### Tres variables (Barri o Districte, Trimestre i Preu)"
   ]
  },
  {
   "cell_type": "code",
   "execution_count": 32,
   "id": "5086c3e6",
   "metadata": {},
   "outputs": [
    {
     "data": {
      "text/plain": [
       "Lloguer_mitja                                Trimestre  Nom_Districte      \n",
       "Lloguer mitjà mensual (Euros/mes)            1          Ciutat Vella            844.275000\n",
       "                                                        Eixample                980.783333\n",
       "                                                        Gràcia                  867.880000\n",
       "                                                        Horta-Guinardó          754.630000\n",
       "                                                        Les Corts              1171.933333\n",
       "                                                                                  ...     \n",
       "Lloguer mitjà per superfície (Euros/m2 mes)  4          Nou Barris               10.880000\n",
       "                                                        Sant Andreu              11.271429\n",
       "                                                        Sant Martí               13.410000\n",
       "                                                        Sants-Montjuïc           12.757143\n",
       "                                                        Sarrià-Sant Gervasi      15.833333\n",
       "Name: Preu, Length: 80, dtype: float64"
      ]
     },
     "execution_count": 32,
     "metadata": {},
     "output_type": "execute_result"
    }
   ],
   "source": [
    "# group by \"Lloguer_mitja\",\"Trimestre\", \"Nom_Districte\"\n",
    "# get average rental price (€/m2)\n",
    "\n",
    "grp_average_price_area_by_districte=flat_rentals.groupby(by=[\"Lloguer_mitja\",\"Trimestre\",\"Nom_Districte\"])[\"Preu\"].mean()\n",
    "grp_average_price_area_by_districte"
   ]
  },
  {
   "cell_type": "code",
   "execution_count": 33,
   "id": "52b29563",
   "metadata": {},
   "outputs": [
    {
     "data": {
      "text/plain": [
       "Trimestre  Nom_Districte      \n",
       "1          Ciutat Vella           13.475000\n",
       "           Eixample               13.200000\n",
       "           Gràcia                 13.340000\n",
       "           Horta-Guinardó         11.810000\n",
       "           Les Corts              13.433333\n",
       "           Nou Barris             10.940000\n",
       "           Sant Andreu            11.550000\n",
       "           Sant Martí             13.340000\n",
       "           Sants-Montjuïc         12.728571\n",
       "           Sarrià-Sant Gervasi    15.150000\n",
       "2          Ciutat Vella           13.775000\n",
       "           Eixample               13.133333\n",
       "           Gràcia                 13.200000\n",
       "           Horta-Guinardó         11.970000\n",
       "           Les Corts              14.200000\n",
       "           Nou Barris             10.910000\n",
       "           Sant Andreu            10.628571\n",
       "           Sant Martí             13.320000\n",
       "           Sants-Montjuïc         12.600000\n",
       "           Sarrià-Sant Gervasi    14.550000\n",
       "3          Ciutat Vella           13.875000\n",
       "           Eixample               13.283333\n",
       "           Gràcia                 13.480000\n",
       "           Horta-Guinardó         12.060000\n",
       "           Les Corts              14.366667\n",
       "           Nou Barris             10.960000\n",
       "           Sant Andreu            11.233333\n",
       "           Sant Martí             13.690000\n",
       "           Sants-Montjuïc         12.628571\n",
       "           Sarrià-Sant Gervasi    14.516667\n",
       "4          Ciutat Vella           13.975000\n",
       "           Eixample               13.583333\n",
       "           Gràcia                 13.500000\n",
       "           Horta-Guinardó         12.110000\n",
       "           Les Corts              14.033333\n",
       "           Nou Barris             10.880000\n",
       "           Sant Andreu            11.271429\n",
       "           Sant Martí             13.410000\n",
       "           Sants-Montjuïc         12.757143\n",
       "           Sarrià-Sant Gervasi    15.833333\n",
       "Name: Preu, dtype: float64"
      ]
     },
     "execution_count": 33,
     "metadata": {},
     "output_type": "execute_result"
    }
   ],
   "source": [
    "# average rental prices per square meter, by \"Trimestre\" and \"Nom_Districte\" \n",
    "\n",
    "average_price_area_by_districte = grp_average_price_area_by_districte.loc[\"Lloguer mitjà per superfície (Euros/m2 mes)\"]\n",
    "average_price_area_by_districte"
   ]
  },
  {
   "cell_type": "code",
   "execution_count": 34,
   "id": "6adcba6b",
   "metadata": {},
   "outputs": [
    {
     "data": {
      "text/plain": [
       "Text(0.5, 0, 'Quarter')"
      ]
     },
     "execution_count": 34,
     "metadata": {},
     "output_type": "execute_result"
    },
    {
     "data": {
      "image/png": "[encoded data removed]",
      "text/plain": [
       "<Figure size 720x504 with 1 Axes>"
      ]
     },
     "metadata": {
      "needs_background": "light"
     },
     "output_type": "display_data"
    }
   ],
   "source": [
    "# set fig, ax for figure, axes\n",
    "# set width and height for figure\n",
    "fig, ax = plt.subplots(figsize=(10,7))\n",
    "\n",
    "# create a lineplot\n",
    "lnplot_average_rent_prices_sqm_district_2021=sns.lineplot(x=\"Trimestre\", y=average_price_area_by_districte.values, \n",
    "                                                     hue=\"Nom_Districte\",data=average_price_area_by_districte, ax=ax)\n",
    "# set the ticks\n",
    "lnplot_average_rent_prices_sqm_district_2021.set_xticks([1,2,3,4])\n",
    "\n",
    "# change the legends location and font size\n",
    "plt.legend(frameon=False, loc='upper left', fontsize=8, ncol=5)\n",
    "\n",
    "# set title\n",
    "ax.set_title(\"\"\"Average rental prices per square meter in 2021, by Nom_Districte\"\"\")\n",
    "\n",
    "# set y label \n",
    "ax.set_ylabel(\"Price (EUR/m2)\")\n",
    "\n",
    "# set x label \n",
    "ax.set_xlabel(\"Quarter\")"
   ]
  },
  {
   "cell_type": "markdown",
   "id": "8cdc96eb",
   "metadata": {},
   "source": [
    "- Most expensive district to live in 2021 was Sarrià-Sant Gervasi, which also had the highest increase of rental prices in **Q4**.\n",
    "- The cheapest rent per square meter was in Sant Andreu during Q2. \n",
    "- Price per square meter in Sant Marí remained flat during the first three quarters and slightly falling in Q4. \n",
    "- EUR/m2 trend for *Gràcia* and *Sant Martí* was similar in the first three quarters of the year. However, EUR/m2 for *Sant Martí* fell while the one for *Gràcia* remained flat. \n",
    "\n",
    "We can classify the districs in: \n",
    "- Expensive:Ciutat Vella, Les Corts, Sarrià-Sant Gervasi.\n",
    "- Cheap: Sant Andreu, Sant Martí. \n",
    "- The rest are closer to the mean or within the standard deviation (1,701480 €/m2)"
   ]
  },
  {
   "cell_type": "code",
   "execution_count": 35,
   "id": "a34aa3d8",
   "metadata": {},
   "outputs": [
    {
     "data": {
      "text/html": [
       "<div>\n",
       "<style scoped>\n",
       "    .dataframe tbody tr th:only-of-type {\n",
       "        vertical-align: middle;\n",
       "    }\n",
       "\n",
       "    .dataframe tbody tr th {\n",
       "        vertical-align: top;\n",
       "    }\n",
       "\n",
       "    .dataframe thead th {\n",
       "        text-align: right;\n",
       "    }\n",
       "</style>\n",
       "<table border=\"1\" class=\"dataframe\">\n",
       "  <thead>\n",
       "    <tr style=\"text-align: right;\">\n",
       "      <th></th>\n",
       "      <th>Preu</th>\n",
       "    </tr>\n",
       "  </thead>\n",
       "  <tbody>\n",
       "    <tr>\n",
       "      <th>count</th>\n",
       "      <td>270.000000</td>\n",
       "    </tr>\n",
       "    <tr>\n",
       "      <th>mean</th>\n",
       "      <td>12.720741</td>\n",
       "    </tr>\n",
       "    <tr>\n",
       "      <th>std</th>\n",
       "      <td>1.701480</td>\n",
       "    </tr>\n",
       "    <tr>\n",
       "      <th>min</th>\n",
       "      <td>6.700000</td>\n",
       "    </tr>\n",
       "    <tr>\n",
       "      <th>25%</th>\n",
       "      <td>11.625000</td>\n",
       "    </tr>\n",
       "    <tr>\n",
       "      <th>50%</th>\n",
       "      <td>12.750000</td>\n",
       "    </tr>\n",
       "    <tr>\n",
       "      <th>75%</th>\n",
       "      <td>13.600000</td>\n",
       "    </tr>\n",
       "    <tr>\n",
       "      <th>max</th>\n",
       "      <td>18.000000</td>\n",
       "    </tr>\n",
       "  </tbody>\n",
       "</table>\n",
       "</div>"
      ],
      "text/plain": [
       "             Preu\n",
       "count  270.000000\n",
       "mean    12.720741\n",
       "std      1.701480\n",
       "min      6.700000\n",
       "25%     11.625000\n",
       "50%     12.750000\n",
       "75%     13.600000\n",
       "max     18.000000"
      ]
     },
     "execution_count": 35,
     "metadata": {},
     "output_type": "execute_result"
    }
   ],
   "source": [
    "district_sq_meter_price.describe()"
   ]
  },
  {
   "cell_type": "markdown",
   "id": "2accca41",
   "metadata": {},
   "source": [
    "### Exercici 2\n",
    "Exporta els gràfics com imatges o com HTML."
   ]
  },
  {
   "cell_type": "code",
   "execution_count": 36,
   "id": "4f252f04",
   "metadata": {},
   "outputs": [],
   "source": [
    "lst_plots = [barplot_num_barris_q1, bxplt_av_rent_price_q1, kplot_rent_sqm_q1, lplot_average_rent_by_area_2021, \n",
    "             lnplot_average_rent_prices_sqm_district_2021]"
   ]
  },
  {
   "cell_type": "code",
   "execution_count": 37,
   "id": "d73d6d52",
   "metadata": {},
   "outputs": [],
   "source": [
    "# create a function to save a plot with it's original title\n",
    "\n",
    "def save_plot(plot):\n",
    "    # use get_figure function and store the plot in a variable (plot_fig)\n",
    "    plot_fig= plot.get_figure()\n",
    "    title= str(plt.title)\n",
    "    \n",
    "    #give a desired name to the plot\n",
    "    file_name = title[16:-2]+\".jpeg\"\n",
    "    \n",
    "    # use savefig function to save the plot \n",
    "    plot_fig.savefig(file_name)   "
   ]
  },
  {
   "cell_type": "code",
   "execution_count": 38,
   "id": "e5931ec0",
   "metadata": {},
   "outputs": [],
   "source": [
    "# apply function for each of the items in lst_plots\n",
    "for plt in lst_plots:\n",
    "    save_plot(plt)"
   ]
  },
  {
   "cell_type": "markdown",
   "id": "019f7a6c",
   "metadata": {},
   "source": [
    "### Exercici 3\n",
    "Proposa alguna visualització que creguis que pot resultar interessant."
   ]
  },
  {
   "cell_type": "code",
   "execution_count": 39,
   "id": "96c79712",
   "metadata": {},
   "outputs": [
    {
     "name": "stdout",
     "output_type": "stream",
     "text": [
      "Setup Complete\n"
     ]
    }
   ],
   "source": [
    "import pandas as pd \n",
    "pd.plotting.register_matplotlib_converters()\n",
    "import matplotlib.pyplot as plt \n",
    "%matplotlib inline\n",
    "import seaborn as sns \n",
    "\n",
    "import matplotlib.dates as mdates\n",
    "import missingno as msn \n",
    "\n",
    "print(\"Setup Complete\")"
   ]
  },
  {
   "cell_type": "code",
   "execution_count": 40,
   "id": "975f2084",
   "metadata": {},
   "outputs": [
    {
     "data": {
      "text/plain": [
       "[<matplotlib.axis.XTick at 0x19cd5a79d90>,\n",
       " <matplotlib.axis.XTick at 0x19cd5a79d60>,\n",
       " <matplotlib.axis.XTick at 0x19cd5ac7520>,\n",
       " <matplotlib.axis.XTick at 0x19cd520ab80>,\n",
       " <matplotlib.axis.XTick at 0x19cd522a160>,\n",
       " <matplotlib.axis.XTick at 0x19cd522a790>,\n",
       " <matplotlib.axis.XTick at 0x19cd522f040>,\n",
       " <matplotlib.axis.XTick at 0x19cd522f670>,\n",
       " <matplotlib.axis.XTick at 0x19cd5a797f0>,\n",
       " <matplotlib.axis.XTick at 0x19cd5ac71f0>,\n",
       " <matplotlib.axis.XTick at 0x19cd5abba30>,\n",
       " <matplotlib.axis.XTick at 0x19cd523e970>,\n",
       " <matplotlib.axis.XTick at 0x19cd5244100>,\n",
       " <matplotlib.axis.XTick at 0x19cd5244850>]"
      ]
     },
     "execution_count": 40,
     "metadata": {},
     "output_type": "execute_result"
    },
    {
     "data": {
      "image/png": "[encoded data removed]",
      "text/plain": [
       "<Figure size 720x504 with 1 Axes>"
      ]
     },
     "metadata": {
      "needs_background": "light"
     },
     "output_type": "display_data"
    }
   ],
   "source": [
    "# set fig, ax for figure, axis\n",
    "# set width and height \n",
    "fig, ax = plt.subplots(figsize=(10,7))\n",
    "\n",
    "# create a histogram \n",
    "sns.histplot(data=district_sq_meter_price[\"Preu\"])\n",
    "\n",
    "# set title\n",
    "ax.set_title(\"Distribution of average rental price for 2021, by area.\")\n",
    "\n",
    "# set label for x axis\n",
    "ax.set_xlabel(\"EUR/m2\")\n",
    "\n",
    "# set ticks for x axis\n",
    "ax.set_xticks([6,7,8,9,10,11,12,13,14,15,16,17,18,19])\n"
   ]
  },
  {
   "cell_type": "markdown",
   "id": "27235533",
   "metadata": {},
   "source": [
    "We can observe the probability distribution for average rental prices by area (EUR/m2). The majority of the rentals are between 11 €/m2 and 14 m/2. "
   ]
  }
 ],
 "metadata": {
  "kernelspec": {
   "display_name": "Python 3 (ipykernel)",
   "language": "python",
   "name": "python3"
  },
  "language_info": {
   "codemirror_mode": {
    "name": "ipython",
    "version": 3
   },
   "file_extension": ".py",
   "mimetype": "text/x-python",
   "name": "python",
   "nbconvert_exporter": "python",
   "pygments_lexer": "ipython3",
   "version": "3.9.12"
  }
 },
 "nbformat": 4,
 "nbformat_minor": 5
}
